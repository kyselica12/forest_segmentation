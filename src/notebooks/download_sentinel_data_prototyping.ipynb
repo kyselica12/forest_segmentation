{
 "cells": [
  {
   "cell_type": "markdown",
   "metadata": {},
   "source": [
    "# Download Sentinel 2 data + LULC data using Google Earth Engine"
   ]
  },
  {
   "cell_type": "code",
   "execution_count": 1,
   "metadata": {},
   "outputs": [],
   "source": [
    "import ee\n",
    "import geemap\n",
    "import os\n",
    "import numpy as np\n",
    "import tifffile\n",
    "\n",
    "COUNTRY = \"San Marino\"#'Vatican City'#\"Luxembourg\"#\n",
    "START_DATE = '2021-01-01'\n",
    "END_DATE = '2021-12-31'\n",
    "CLOUD_COVER = 10\n",
    "\n",
    "PATCH_SIZE = 256\n",
    "\n",
    "OUTPUT_FOLDER = f'./data/{COUNTRY}'\n",
    "\n",
    "SENTINEL_BANDS = ['B1', 'B2', 'B3', 'B4', 'B5', 'B6', 'B7', 'B8', 'B8A', 'B9', 'B11', 'B12']\n",
    "\n",
    "if not os.path.exists(OUTPUT_FOLDER):\n",
    "    os.makedirs(OUTPUT_FOLDER)\n"
   ]
  },
  {
   "cell_type": "code",
   "execution_count": 3,
   "metadata": {},
   "outputs": [
    {
     "data": {
      "text/html": [
       "<p>To authorize access needed by Earth Engine, open the following\n",
       "        URL in a web browser and follow the instructions:</p>\n",
       "        <p><a href=https://code.earthengine.google.com/client-auth?scopes=https%3A//www.googleapis.com/auth/earthengine%20https%3A//www.googleapis.com/auth/devstorage.full_control&request_id=kk8cKT-4gljjvDzYxxSLZxe4eOxty-EjZe3CiuAD_4g&tc=0zKAv0gV6_P-tt0l6PB8GZOEP2mqvnJQmwwFZtOMCiQ&cc=5kd7cWucY6h5LpRZJ9SnbWL3W8QqYjZyVVJpc1q9N5U>https://code.earthengine.google.com/client-auth?scopes=https%3A//www.googleapis.com/auth/earthengine%20https%3A//www.googleapis.com/auth/devstorage.full_control&request_id=kk8cKT-4gljjvDzYxxSLZxe4eOxty-EjZe3CiuAD_4g&tc=0zKAv0gV6_P-tt0l6PB8GZOEP2mqvnJQmwwFZtOMCiQ&cc=5kd7cWucY6h5LpRZJ9SnbWL3W8QqYjZyVVJpc1q9N5U</a></p>\n",
       "        <p>The authorization workflow will generate a code, which you should paste in the box below.</p>\n",
       "        "
      ],
      "text/plain": [
       "<IPython.core.display.HTML object>"
      ]
     },
     "metadata": {},
     "output_type": "display_data"
    },
    {
     "name": "stdout",
     "output_type": "stream",
     "text": [
      "\n",
      "Successfully saved authorization token.\n"
     ]
    }
   ],
   "source": [
    "ee.Authenticate()\n",
    "ee.Initialize()"
   ]
  },
  {
   "cell_type": "code",
   "execution_count": 3,
   "metadata": {},
   "outputs": [],
   "source": [
    "ee.Initialize()\n",
    "countries = ee.FeatureCollection(\"USDOS/LSIB_SIMPLE/2017\")\n",
    "roi = countries.filter(ee.Filter.eq('country_na', COUNTRY))\n",
    "\n",
    "image_collection = ee.ImageCollection(\"COPERNICUS/S2_SR_HARMONIZED\")\\\n",
    "        .filterDate(START_DATE, END_DATE)\\\n",
    "        .filter(ee.Filter.lt('CLOUDY_PIXEL_PERCENTAGE',CLOUD_COVER))\\\n",
    "        .filterBounds(roi)\\\n",
    "        # .median()\\\n",
    "        # .select(SENTINEL_BANDS)\\\n",
    "        # .clip(roi.geometry())\\\n",
    "#       ^--  median image was taken from all images\n",
    "\n",
    "def create_quality_band(image):\n",
    "    return image.addBands(image.select('MSK_CLDPRB').multiply(-1).rename('quality'))\n",
    "\n",
    "image_collection = image_collection.map(create_quality_band)\n",
    "\n",
    "image = image_collection.qualityMosaic('quality')\n",
    "image = image.select(SENTINEL_BANDS).clip(roi.geometry())\n",
    "\n",
    "land_cover_image = ee.ImageCollection('ESA/WorldCover/v200').first()\\\n",
    "                    .clip(roi.geometry())\n"
   ]
  },
  {
   "cell_type": "code",
   "execution_count": 4,
   "metadata": {},
   "outputs": [],
   "source": [
    "grid = roi.geometry().coveringGrid(\"EPSG:3857\", 10*PATCH_SIZE)\n",
    "grid_data = grid.getInfo()\n"
   ]
  },
  {
   "cell_type": "code",
   "execution_count": 5,
   "metadata": {},
   "outputs": [],
   "source": [
    "import json\n",
    "\n",
    "with open('grid.json', 'w') as f:\n",
    "    json.dump(grid_data, f)"
   ]
  },
  {
   "cell_type": "code",
   "execution_count": 15,
   "metadata": {},
   "outputs": [
    {
     "name": "stdout",
     "output_type": "stream",
     "text": [
      "Downloading 1/33: ./data/San Marino/San Marino01.tif\n"
     ]
    },
    {
     "data": {
      "application/vnd.jupyter.widget-view+json": {
       "model_id": "aaef6b9a0db14911b3fcf44a97eab985",
       "version_major": 2,
       "version_minor": 0
      },
      "text/plain": [
       "San Marino01.tif: |          | 0.00/6.29M (raw) [  0.0%] in 00:00 (eta:     ?)"
      ]
     },
     "metadata": {},
     "output_type": "display_data"
    },
    {
     "name": "stderr",
     "output_type": "stream",
     "text": [
      "There is no STAC entry for: None\n"
     ]
    },
    {
     "name": "stdout",
     "output_type": "stream",
     "text": [
      "Downloading 2/33: ./data/San Marino/San Marino02.tif\n"
     ]
    },
    {
     "data": {
      "application/vnd.jupyter.widget-view+json": {
       "model_id": "73f0d5fbee8344e4948bf76c0a2e06d3",
       "version_major": 2,
       "version_minor": 0
      },
      "text/plain": [
       "San Marino02.tif: |          | 0.00/6.29M (raw) [  0.0%] in 00:00 (eta:     ?)"
      ]
     },
     "metadata": {},
     "output_type": "display_data"
    },
    {
     "name": "stdout",
     "output_type": "stream",
     "text": [
      "Downloading 3/33: ./data/San Marino/San Marino03.tif\n"
     ]
    },
    {
     "data": {
      "application/vnd.jupyter.widget-view+json": {
       "model_id": "45385e270c6e4cf8beb0fd08e9529c44",
       "version_major": 2,
       "version_minor": 0
      },
      "text/plain": [
       "San Marino03.tif: |          | 0.00/6.29M (raw) [  0.0%] in 00:00 (eta:     ?)"
      ]
     },
     "metadata": {},
     "output_type": "display_data"
    },
    {
     "name": "stdout",
     "output_type": "stream",
     "text": [
      "Downloading 4/33: ./data/San Marino/San Marino04.tif\n"
     ]
    },
    {
     "data": {
      "application/vnd.jupyter.widget-view+json": {
       "model_id": "68e3f7f42a83495f832cad4ce23540b2",
       "version_major": 2,
       "version_minor": 0
      },
      "text/plain": [
       "San Marino04.tif: |          | 0.00/6.29M (raw) [  0.0%] in 00:00 (eta:     ?)"
      ]
     },
     "metadata": {},
     "output_type": "display_data"
    },
    {
     "name": "stdout",
     "output_type": "stream",
     "text": [
      "Downloading 5/33: ./data/San Marino/San Marino05.tif\n"
     ]
    },
    {
     "data": {
      "application/vnd.jupyter.widget-view+json": {
       "model_id": "58f4f81948c64d54a690f3515cc81181",
       "version_major": 2,
       "version_minor": 0
      },
      "text/plain": [
       "San Marino05.tif: |          | 0.00/6.29M (raw) [  0.0%] in 00:00 (eta:     ?)"
      ]
     },
     "metadata": {},
     "output_type": "display_data"
    },
    {
     "name": "stdout",
     "output_type": "stream",
     "text": [
      "Downloading 6/33: ./data/San Marino/San Marino06.tif\n"
     ]
    },
    {
     "data": {
      "application/vnd.jupyter.widget-view+json": {
       "model_id": "7cfed966ab744b8a86c7a89d99ebea29",
       "version_major": 2,
       "version_minor": 0
      },
      "text/plain": [
       "San Marino06.tif: |          | 0.00/6.29M (raw) [  0.0%] in 00:00 (eta:     ?)"
      ]
     },
     "metadata": {},
     "output_type": "display_data"
    },
    {
     "name": "stdout",
     "output_type": "stream",
     "text": [
      "Downloading 7/33: ./data/San Marino/San Marino07.tif\n"
     ]
    },
    {
     "data": {
      "application/vnd.jupyter.widget-view+json": {
       "model_id": "856032246f914a4489b8e3c404e0737e",
       "version_major": 2,
       "version_minor": 0
      },
      "text/plain": [
       "San Marino07.tif: |          | 0.00/6.29M (raw) [  0.0%] in 00:00 (eta:     ?)"
      ]
     },
     "metadata": {},
     "output_type": "display_data"
    },
    {
     "name": "stdout",
     "output_type": "stream",
     "text": [
      "Downloading 8/33: ./data/San Marino/San Marino08.tif\n"
     ]
    },
    {
     "data": {
      "application/vnd.jupyter.widget-view+json": {
       "model_id": "459d074a14aa4cefaf8f709b327d174e",
       "version_major": 2,
       "version_minor": 0
      },
      "text/plain": [
       "San Marino08.tif: |          | 0.00/6.29M (raw) [  0.0%] in 00:00 (eta:     ?)"
      ]
     },
     "metadata": {},
     "output_type": "display_data"
    },
    {
     "name": "stdout",
     "output_type": "stream",
     "text": [
      "Downloading 9/33: ./data/San Marino/San Marino09.tif\n"
     ]
    },
    {
     "data": {
      "application/vnd.jupyter.widget-view+json": {
       "model_id": "2acd2c95e91343ad8a5f9fdc6f5509d7",
       "version_major": 2,
       "version_minor": 0
      },
      "text/plain": [
       "San Marino09.tif: |          | 0.00/6.29M (raw) [  0.0%] in 00:00 (eta:     ?)"
      ]
     },
     "metadata": {},
     "output_type": "display_data"
    },
    {
     "name": "stdout",
     "output_type": "stream",
     "text": [
      "Downloading 10/33: ./data/San Marino/San Marino10.tif\n"
     ]
    },
    {
     "data": {
      "application/vnd.jupyter.widget-view+json": {
       "model_id": "ea24a4de16fd40ce91dbe992cb99f524",
       "version_major": 2,
       "version_minor": 0
      },
      "text/plain": [
       "San Marino10.tif: |          | 0.00/6.29M (raw) [  0.0%] in 00:00 (eta:     ?)"
      ]
     },
     "metadata": {},
     "output_type": "display_data"
    },
    {
     "name": "stdout",
     "output_type": "stream",
     "text": [
      "Downloading 11/33: ./data/San Marino/San Marino11.tif\n"
     ]
    },
    {
     "data": {
      "application/vnd.jupyter.widget-view+json": {
       "model_id": "86abac98cc804f4db3f5a51bff194d2a",
       "version_major": 2,
       "version_minor": 0
      },
      "text/plain": [
       "San Marino11.tif: |          | 0.00/6.29M (raw) [  0.0%] in 00:00 (eta:     ?)"
      ]
     },
     "metadata": {},
     "output_type": "display_data"
    },
    {
     "name": "stdout",
     "output_type": "stream",
     "text": [
      "Downloading 12/33: ./data/San Marino/San Marino12.tif\n"
     ]
    },
    {
     "data": {
      "application/vnd.jupyter.widget-view+json": {
       "model_id": "25f9a6aa1d0944ffa771ce9286552bc2",
       "version_major": 2,
       "version_minor": 0
      },
      "text/plain": [
       "San Marino12.tif: |          | 0.00/6.29M (raw) [  0.0%] in 00:00 (eta:     ?)"
      ]
     },
     "metadata": {},
     "output_type": "display_data"
    },
    {
     "name": "stdout",
     "output_type": "stream",
     "text": [
      "Downloading 13/33: ./data/San Marino/San Marino13.tif\n"
     ]
    },
    {
     "data": {
      "application/vnd.jupyter.widget-view+json": {
       "model_id": "cdc26127ce214fbfbb81b6f470afa5fd",
       "version_major": 2,
       "version_minor": 0
      },
      "text/plain": [
       "San Marino13.tif: |          | 0.00/6.29M (raw) [  0.0%] in 00:00 (eta:     ?)"
      ]
     },
     "metadata": {},
     "output_type": "display_data"
    },
    {
     "name": "stdout",
     "output_type": "stream",
     "text": [
      "Downloading 14/33: ./data/San Marino/San Marino14.tif\n"
     ]
    },
    {
     "data": {
      "application/vnd.jupyter.widget-view+json": {
       "model_id": "3fccf57966b24d5390dc9f2283855cc7",
       "version_major": 2,
       "version_minor": 0
      },
      "text/plain": [
       "San Marino14.tif: |          | 0.00/6.29M (raw) [  0.0%] in 00:00 (eta:     ?)"
      ]
     },
     "metadata": {},
     "output_type": "display_data"
    },
    {
     "name": "stdout",
     "output_type": "stream",
     "text": [
      "Downloading 15/33: ./data/San Marino/San Marino15.tif\n"
     ]
    },
    {
     "data": {
      "application/vnd.jupyter.widget-view+json": {
       "model_id": "57919d3107eb456fb0a9aa5bdb16461f",
       "version_major": 2,
       "version_minor": 0
      },
      "text/plain": [
       "San Marino15.tif: |          | 0.00/6.29M (raw) [  0.0%] in 00:00 (eta:     ?)"
      ]
     },
     "metadata": {},
     "output_type": "display_data"
    },
    {
     "name": "stdout",
     "output_type": "stream",
     "text": [
      "Downloading 16/33: ./data/San Marino/San Marino16.tif\n"
     ]
    },
    {
     "data": {
      "application/vnd.jupyter.widget-view+json": {
       "model_id": "03d689e58e0e4236a955f597ff204aa2",
       "version_major": 2,
       "version_minor": 0
      },
      "text/plain": [
       "San Marino16.tif: |          | 0.00/6.29M (raw) [  0.0%] in 00:00 (eta:     ?)"
      ]
     },
     "metadata": {},
     "output_type": "display_data"
    },
    {
     "name": "stdout",
     "output_type": "stream",
     "text": [
      "Downloading 17/33: ./data/San Marino/San Marino17.tif\n"
     ]
    },
    {
     "data": {
      "application/vnd.jupyter.widget-view+json": {
       "model_id": "5adce91aee044b8d9607b794f847a74a",
       "version_major": 2,
       "version_minor": 0
      },
      "text/plain": [
       "San Marino17.tif: |          | 0.00/6.29M (raw) [  0.0%] in 00:00 (eta:     ?)"
      ]
     },
     "metadata": {},
     "output_type": "display_data"
    },
    {
     "name": "stdout",
     "output_type": "stream",
     "text": [
      "Downloading 18/33: ./data/San Marino/San Marino18.tif\n"
     ]
    },
    {
     "data": {
      "application/vnd.jupyter.widget-view+json": {
       "model_id": "53d5510afd0c48d4996d4a433bfa7090",
       "version_major": 2,
       "version_minor": 0
      },
      "text/plain": [
       "San Marino18.tif: |          | 0.00/6.29M (raw) [  0.0%] in 00:00 (eta:     ?)"
      ]
     },
     "metadata": {},
     "output_type": "display_data"
    },
    {
     "name": "stdout",
     "output_type": "stream",
     "text": [
      "Downloading 19/33: ./data/San Marino/San Marino19.tif\n"
     ]
    },
    {
     "data": {
      "application/vnd.jupyter.widget-view+json": {
       "model_id": "903dcb6e2a2f4d09839c85fe67c71fe3",
       "version_major": 2,
       "version_minor": 0
      },
      "text/plain": [
       "San Marino19.tif: |          | 0.00/6.29M (raw) [  0.0%] in 00:00 (eta:     ?)"
      ]
     },
     "metadata": {},
     "output_type": "display_data"
    },
    {
     "name": "stdout",
     "output_type": "stream",
     "text": [
      "Downloading 20/33: ./data/San Marino/San Marino20.tif\n"
     ]
    },
    {
     "data": {
      "application/vnd.jupyter.widget-view+json": {
       "model_id": "3dc0001c0e05424695100d72d37f9e4f",
       "version_major": 2,
       "version_minor": 0
      },
      "text/plain": [
       "San Marino20.tif: |          | 0.00/6.29M (raw) [  0.0%] in 00:00 (eta:     ?)"
      ]
     },
     "metadata": {},
     "output_type": "display_data"
    },
    {
     "name": "stdout",
     "output_type": "stream",
     "text": [
      "Downloading 21/33: ./data/San Marino/San Marino21.tif\n"
     ]
    },
    {
     "data": {
      "application/vnd.jupyter.widget-view+json": {
       "model_id": "0b0d908b8a694c07ae45bf9e1648e14e",
       "version_major": 2,
       "version_minor": 0
      },
      "text/plain": [
       "San Marino21.tif: |          | 0.00/6.29M (raw) [  0.0%] in 00:00 (eta:     ?)"
      ]
     },
     "metadata": {},
     "output_type": "display_data"
    },
    {
     "name": "stdout",
     "output_type": "stream",
     "text": [
      "Downloading 22/33: ./data/San Marino/San Marino22.tif\n"
     ]
    },
    {
     "data": {
      "application/vnd.jupyter.widget-view+json": {
       "model_id": "2f3edf789ac84120aa515a8978bc0fe4",
       "version_major": 2,
       "version_minor": 0
      },
      "text/plain": [
       "San Marino22.tif: |          | 0.00/6.29M (raw) [  0.0%] in 00:00 (eta:     ?)"
      ]
     },
     "metadata": {},
     "output_type": "display_data"
    },
    {
     "name": "stdout",
     "output_type": "stream",
     "text": [
      "Downloading 23/33: ./data/San Marino/San Marino23.tif\n"
     ]
    },
    {
     "data": {
      "application/vnd.jupyter.widget-view+json": {
       "model_id": "9ec0d5cb8f264048997fd69eca52e252",
       "version_major": 2,
       "version_minor": 0
      },
      "text/plain": [
       "San Marino23.tif: |          | 0.00/6.29M (raw) [  0.0%] in 00:00 (eta:     ?)"
      ]
     },
     "metadata": {},
     "output_type": "display_data"
    },
    {
     "name": "stdout",
     "output_type": "stream",
     "text": [
      "Downloading 24/33: ./data/San Marino/San Marino24.tif\n"
     ]
    },
    {
     "data": {
      "application/vnd.jupyter.widget-view+json": {
       "model_id": "a2dbc7337ada470a8f4e87e178dfe614",
       "version_major": 2,
       "version_minor": 0
      },
      "text/plain": [
       "San Marino24.tif: |          | 0.00/6.29M (raw) [  0.0%] in 00:00 (eta:     ?)"
      ]
     },
     "metadata": {},
     "output_type": "display_data"
    },
    {
     "name": "stdout",
     "output_type": "stream",
     "text": [
      "Downloading 25/33: ./data/San Marino/San Marino25.tif\n"
     ]
    },
    {
     "data": {
      "application/vnd.jupyter.widget-view+json": {
       "model_id": "dcf1906f088642ff85cdf9f9313e4765",
       "version_major": 2,
       "version_minor": 0
      },
      "text/plain": [
       "San Marino25.tif: |          | 0.00/6.29M (raw) [  0.0%] in 00:00 (eta:     ?)"
      ]
     },
     "metadata": {},
     "output_type": "display_data"
    },
    {
     "name": "stdout",
     "output_type": "stream",
     "text": [
      "Downloading 26/33: ./data/San Marino/San Marino26.tif\n"
     ]
    },
    {
     "data": {
      "application/vnd.jupyter.widget-view+json": {
       "model_id": "a616bb29cdd84430b2031b6ddc108e0f",
       "version_major": 2,
       "version_minor": 0
      },
      "text/plain": [
       "San Marino26.tif: |          | 0.00/6.29M (raw) [  0.0%] in 00:00 (eta:     ?)"
      ]
     },
     "metadata": {},
     "output_type": "display_data"
    },
    {
     "name": "stdout",
     "output_type": "stream",
     "text": [
      "Downloading 27/33: ./data/San Marino/San Marino27.tif\n"
     ]
    },
    {
     "data": {
      "application/vnd.jupyter.widget-view+json": {
       "model_id": "00e64ef2374e4af6ac46f8b00e215f56",
       "version_major": 2,
       "version_minor": 0
      },
      "text/plain": [
       "San Marino27.tif: |          | 0.00/6.29M (raw) [  0.0%] in 00:00 (eta:     ?)"
      ]
     },
     "metadata": {},
     "output_type": "display_data"
    },
    {
     "name": "stdout",
     "output_type": "stream",
     "text": [
      "Downloading 28/33: ./data/San Marino/San Marino28.tif\n"
     ]
    },
    {
     "data": {
      "application/vnd.jupyter.widget-view+json": {
       "model_id": "2e53fbd3646f4d749a2986e7e37fda3d",
       "version_major": 2,
       "version_minor": 0
      },
      "text/plain": [
       "San Marino28.tif: |          | 0.00/6.29M (raw) [  0.0%] in 00:00 (eta:     ?)"
      ]
     },
     "metadata": {},
     "output_type": "display_data"
    },
    {
     "name": "stdout",
     "output_type": "stream",
     "text": [
      "Downloading 29/33: ./data/San Marino/San Marino29.tif\n"
     ]
    },
    {
     "data": {
      "application/vnd.jupyter.widget-view+json": {
       "model_id": "f4d40b25637b4ee58a1ed3483a70a318",
       "version_major": 2,
       "version_minor": 0
      },
      "text/plain": [
       "San Marino29.tif: |          | 0.00/6.29M (raw) [  0.0%] in 00:00 (eta:     ?)"
      ]
     },
     "metadata": {},
     "output_type": "display_data"
    },
    {
     "name": "stdout",
     "output_type": "stream",
     "text": [
      "Downloading 30/33: ./data/San Marino/San Marino30.tif\n"
     ]
    },
    {
     "data": {
      "application/vnd.jupyter.widget-view+json": {
       "model_id": "96b2031916894e9d968094844819b2b0",
       "version_major": 2,
       "version_minor": 0
      },
      "text/plain": [
       "San Marino30.tif: |          | 0.00/6.29M (raw) [  0.0%] in 00:00 (eta:     ?)"
      ]
     },
     "metadata": {},
     "output_type": "display_data"
    },
    {
     "name": "stdout",
     "output_type": "stream",
     "text": [
      "Downloading 31/33: ./data/San Marino/San Marino31.tif\n"
     ]
    },
    {
     "data": {
      "application/vnd.jupyter.widget-view+json": {
       "model_id": "882cb8e16cc746a59d6acaa41c44c7fe",
       "version_major": 2,
       "version_minor": 0
      },
      "text/plain": [
       "San Marino31.tif: |          | 0.00/6.29M (raw) [  0.0%] in 00:00 (eta:     ?)"
      ]
     },
     "metadata": {},
     "output_type": "display_data"
    },
    {
     "name": "stdout",
     "output_type": "stream",
     "text": [
      "Downloading 32/33: ./data/San Marino/San Marino32.tif\n"
     ]
    },
    {
     "data": {
      "application/vnd.jupyter.widget-view+json": {
       "model_id": "5c55d1899c0b4d0f9b128545007229e9",
       "version_major": 2,
       "version_minor": 0
      },
      "text/plain": [
       "San Marino32.tif: |          | 0.00/6.29M (raw) [  0.0%] in 00:00 (eta:     ?)"
      ]
     },
     "metadata": {},
     "output_type": "display_data"
    },
    {
     "name": "stdout",
     "output_type": "stream",
     "text": [
      "Downloading 33/33: ./data/San Marino/San Marino33.tif\n"
     ]
    },
    {
     "data": {
      "application/vnd.jupyter.widget-view+json": {
       "model_id": "78bd4c328c754594909356e296c0487e",
       "version_major": 2,
       "version_minor": 0
      },
      "text/plain": [
       "San Marino33.tif: |          | 0.00/6.29M (raw) [  0.0%] in 00:00 (eta:     ?)"
      ]
     },
     "metadata": {},
     "output_type": "display_data"
    },
    {
     "name": "stdout",
     "output_type": "stream",
     "text": [
      "Downloaded 33 tiles in 253.60672521591187 seconds.\n"
     ]
    }
   ],
   "source": [
    "print(\"Downloading Sentinel-2 data...\")\n",
    "\n",
    "TILES_FOLDER = f'{OUTPUT_FOLDER}/tiles'\n",
    "\n",
    "if not os.path.exists(TILES_FOLDER):\n",
    "    os.makedirs(TILES_FOLDER)\n",
    "\n",
    "geemap.download_ee_image_tiles(\n",
    "    image,\n",
    "    features=grid,\n",
    "    out_dir=TILES_FOLDER,\n",
    "    prefix=COUNTRY,\n",
    "    scale=10,\n",
    "    crs=\"EPSG:3857\"\n",
    ")"
   ]
  },
  {
   "cell_type": "code",
   "execution_count": 24,
   "metadata": {},
   "outputs": [
    {
     "name": "stdout",
     "output_type": "stream",
     "text": [
      "Downloading land cover image...\n",
      "Downloading 1/33: ./data/San Marino/LUCL/San Marino01.tif\n"
     ]
    },
    {
     "data": {
      "application/vnd.jupyter.widget-view+json": {
       "model_id": "641543d84412485b8b6d3a2e08d6c6e3",
       "version_major": 2,
       "version_minor": 0
      },
      "text/plain": [
       "San Marino01.tif: |          | 0.00/65.5k (raw) [  0.0%] in 00:00 (eta:     ?)"
      ]
     },
     "metadata": {},
     "output_type": "display_data"
    },
    {
     "name": "stdout",
     "output_type": "stream",
     "text": [
      "Downloading 2/33: ./data/San Marino/LUCL/San Marino02.tif\n"
     ]
    },
    {
     "data": {
      "application/vnd.jupyter.widget-view+json": {
       "model_id": "77ea1f2d14554fa4b41ad665102302d9",
       "version_major": 2,
       "version_minor": 0
      },
      "text/plain": [
       "San Marino02.tif: |          | 0.00/65.5k (raw) [  0.0%] in 00:00 (eta:     ?)"
      ]
     },
     "metadata": {},
     "output_type": "display_data"
    },
    {
     "name": "stdout",
     "output_type": "stream",
     "text": [
      "Downloading 3/33: ./data/San Marino/LUCL/San Marino03.tif\n"
     ]
    },
    {
     "data": {
      "application/vnd.jupyter.widget-view+json": {
       "model_id": "a8d8e08f3a5a440d84d5bec0340f221f",
       "version_major": 2,
       "version_minor": 0
      },
      "text/plain": [
       "San Marino03.tif: |          | 0.00/65.5k (raw) [  0.0%] in 00:00 (eta:     ?)"
      ]
     },
     "metadata": {},
     "output_type": "display_data"
    },
    {
     "name": "stdout",
     "output_type": "stream",
     "text": [
      "Downloading 4/33: ./data/San Marino/LUCL/San Marino04.tif\n"
     ]
    },
    {
     "data": {
      "application/vnd.jupyter.widget-view+json": {
       "model_id": "36d01752624940de9f6116ac18f020e7",
       "version_major": 2,
       "version_minor": 0
      },
      "text/plain": [
       "San Marino04.tif: |          | 0.00/65.5k (raw) [  0.0%] in 00:00 (eta:     ?)"
      ]
     },
     "metadata": {},
     "output_type": "display_data"
    },
    {
     "name": "stdout",
     "output_type": "stream",
     "text": [
      "Downloading 5/33: ./data/San Marino/LUCL/San Marino05.tif\n"
     ]
    },
    {
     "data": {
      "application/vnd.jupyter.widget-view+json": {
       "model_id": "e77ddca6d4584b2d933665efd26a08b6",
       "version_major": 2,
       "version_minor": 0
      },
      "text/plain": [
       "San Marino05.tif: |          | 0.00/65.5k (raw) [  0.0%] in 00:00 (eta:     ?)"
      ]
     },
     "metadata": {},
     "output_type": "display_data"
    },
    {
     "name": "stdout",
     "output_type": "stream",
     "text": [
      "Downloading 6/33: ./data/San Marino/LUCL/San Marino06.tif\n"
     ]
    },
    {
     "data": {
      "application/vnd.jupyter.widget-view+json": {
       "model_id": "4fdd872031764e7abb0d8aa45613b5d6",
       "version_major": 2,
       "version_minor": 0
      },
      "text/plain": [
       "San Marino06.tif: |          | 0.00/65.5k (raw) [  0.0%] in 00:00 (eta:     ?)"
      ]
     },
     "metadata": {},
     "output_type": "display_data"
    },
    {
     "name": "stdout",
     "output_type": "stream",
     "text": [
      "Downloading 7/33: ./data/San Marino/LUCL/San Marino07.tif\n"
     ]
    },
    {
     "data": {
      "application/vnd.jupyter.widget-view+json": {
       "model_id": "f9279ba85c254d21a3c2054ac9a4f20d",
       "version_major": 2,
       "version_minor": 0
      },
      "text/plain": [
       "San Marino07.tif: |          | 0.00/65.5k (raw) [  0.0%] in 00:00 (eta:     ?)"
      ]
     },
     "metadata": {},
     "output_type": "display_data"
    },
    {
     "name": "stdout",
     "output_type": "stream",
     "text": [
      "Downloading 8/33: ./data/San Marino/LUCL/San Marino08.tif\n"
     ]
    },
    {
     "data": {
      "application/vnd.jupyter.widget-view+json": {
       "model_id": "38d33263e5a8444b879fb2f621d7eddc",
       "version_major": 2,
       "version_minor": 0
      },
      "text/plain": [
       "San Marino08.tif: |          | 0.00/65.5k (raw) [  0.0%] in 00:00 (eta:     ?)"
      ]
     },
     "metadata": {},
     "output_type": "display_data"
    },
    {
     "name": "stdout",
     "output_type": "stream",
     "text": [
      "Downloading 9/33: ./data/San Marino/LUCL/San Marino09.tif\n"
     ]
    },
    {
     "data": {
      "application/vnd.jupyter.widget-view+json": {
       "model_id": "0d8863d2ce394840b31eb1377861d836",
       "version_major": 2,
       "version_minor": 0
      },
      "text/plain": [
       "San Marino09.tif: |          | 0.00/65.5k (raw) [  0.0%] in 00:00 (eta:     ?)"
      ]
     },
     "metadata": {},
     "output_type": "display_data"
    },
    {
     "name": "stdout",
     "output_type": "stream",
     "text": [
      "Downloading 10/33: ./data/San Marino/LUCL/San Marino10.tif\n"
     ]
    },
    {
     "data": {
      "application/vnd.jupyter.widget-view+json": {
       "model_id": "be4e5294efea4f64b2699e2caf468b1e",
       "version_major": 2,
       "version_minor": 0
      },
      "text/plain": [
       "San Marino10.tif: |          | 0.00/65.5k (raw) [  0.0%] in 00:00 (eta:     ?)"
      ]
     },
     "metadata": {},
     "output_type": "display_data"
    },
    {
     "name": "stdout",
     "output_type": "stream",
     "text": [
      "Downloading 11/33: ./data/San Marino/LUCL/San Marino11.tif\n"
     ]
    },
    {
     "data": {
      "application/vnd.jupyter.widget-view+json": {
       "model_id": "8ee1ddb2abc54d6da55afec548c75074",
       "version_major": 2,
       "version_minor": 0
      },
      "text/plain": [
       "San Marino11.tif: |          | 0.00/65.5k (raw) [  0.0%] in 00:00 (eta:     ?)"
      ]
     },
     "metadata": {},
     "output_type": "display_data"
    },
    {
     "name": "stdout",
     "output_type": "stream",
     "text": [
      "Downloading 12/33: ./data/San Marino/LUCL/San Marino12.tif\n"
     ]
    },
    {
     "data": {
      "application/vnd.jupyter.widget-view+json": {
       "model_id": "6fc1f9083ba44f4192c8a6f799afd277",
       "version_major": 2,
       "version_minor": 0
      },
      "text/plain": [
       "San Marino12.tif: |          | 0.00/65.5k (raw) [  0.0%] in 00:00 (eta:     ?)"
      ]
     },
     "metadata": {},
     "output_type": "display_data"
    },
    {
     "name": "stdout",
     "output_type": "stream",
     "text": [
      "Downloading 13/33: ./data/San Marino/LUCL/San Marino13.tif\n"
     ]
    },
    {
     "data": {
      "application/vnd.jupyter.widget-view+json": {
       "model_id": "17d7781e20b041b788ae2258f4144f56",
       "version_major": 2,
       "version_minor": 0
      },
      "text/plain": [
       "San Marino13.tif: |          | 0.00/65.5k (raw) [  0.0%] in 00:00 (eta:     ?)"
      ]
     },
     "metadata": {},
     "output_type": "display_data"
    },
    {
     "name": "stdout",
     "output_type": "stream",
     "text": [
      "Downloading 14/33: ./data/San Marino/LUCL/San Marino14.tif\n"
     ]
    },
    {
     "data": {
      "application/vnd.jupyter.widget-view+json": {
       "model_id": "1852c08defd24839a1bec0055e9bd4c3",
       "version_major": 2,
       "version_minor": 0
      },
      "text/plain": [
       "San Marino14.tif: |          | 0.00/65.5k (raw) [  0.0%] in 00:00 (eta:     ?)"
      ]
     },
     "metadata": {},
     "output_type": "display_data"
    },
    {
     "name": "stdout",
     "output_type": "stream",
     "text": [
      "Downloading 15/33: ./data/San Marino/LUCL/San Marino15.tif\n"
     ]
    },
    {
     "data": {
      "application/vnd.jupyter.widget-view+json": {
       "model_id": "6cfb026192e645d3958eca9f32f657b4",
       "version_major": 2,
       "version_minor": 0
      },
      "text/plain": [
       "San Marino15.tif: |          | 0.00/65.5k (raw) [  0.0%] in 00:00 (eta:     ?)"
      ]
     },
     "metadata": {},
     "output_type": "display_data"
    },
    {
     "name": "stdout",
     "output_type": "stream",
     "text": [
      "Downloading 16/33: ./data/San Marino/LUCL/San Marino16.tif\n"
     ]
    },
    {
     "data": {
      "application/vnd.jupyter.widget-view+json": {
       "model_id": "d4285a8ead1446dbbb4ad30e0ab29d4e",
       "version_major": 2,
       "version_minor": 0
      },
      "text/plain": [
       "San Marino16.tif: |          | 0.00/65.5k (raw) [  0.0%] in 00:00 (eta:     ?)"
      ]
     },
     "metadata": {},
     "output_type": "display_data"
    },
    {
     "name": "stdout",
     "output_type": "stream",
     "text": [
      "Downloading 17/33: ./data/San Marino/LUCL/San Marino17.tif\n"
     ]
    },
    {
     "data": {
      "application/vnd.jupyter.widget-view+json": {
       "model_id": "599cc6f3977a4376a373d2fcba002f81",
       "version_major": 2,
       "version_minor": 0
      },
      "text/plain": [
       "San Marino17.tif: |          | 0.00/65.5k (raw) [  0.0%] in 00:00 (eta:     ?)"
      ]
     },
     "metadata": {},
     "output_type": "display_data"
    },
    {
     "name": "stdout",
     "output_type": "stream",
     "text": [
      "Downloading 18/33: ./data/San Marino/LUCL/San Marino18.tif\n"
     ]
    },
    {
     "data": {
      "application/vnd.jupyter.widget-view+json": {
       "model_id": "4c9297cd0e5d40d7b9ae5f33c32b4a02",
       "version_major": 2,
       "version_minor": 0
      },
      "text/plain": [
       "San Marino18.tif: |          | 0.00/65.5k (raw) [  0.0%] in 00:00 (eta:     ?)"
      ]
     },
     "metadata": {},
     "output_type": "display_data"
    },
    {
     "name": "stdout",
     "output_type": "stream",
     "text": [
      "Downloading 19/33: ./data/San Marino/LUCL/San Marino19.tif\n"
     ]
    },
    {
     "data": {
      "application/vnd.jupyter.widget-view+json": {
       "model_id": "a6e3e04d35464314aab07f42beaff1be",
       "version_major": 2,
       "version_minor": 0
      },
      "text/plain": [
       "San Marino19.tif: |          | 0.00/65.5k (raw) [  0.0%] in 00:00 (eta:     ?)"
      ]
     },
     "metadata": {},
     "output_type": "display_data"
    },
    {
     "name": "stdout",
     "output_type": "stream",
     "text": [
      "Downloading 20/33: ./data/San Marino/LUCL/San Marino20.tif\n"
     ]
    },
    {
     "data": {
      "application/vnd.jupyter.widget-view+json": {
       "model_id": "0431b052c61e464eb74bfd77326c50b8",
       "version_major": 2,
       "version_minor": 0
      },
      "text/plain": [
       "San Marino20.tif: |          | 0.00/65.5k (raw) [  0.0%] in 00:00 (eta:     ?)"
      ]
     },
     "metadata": {},
     "output_type": "display_data"
    },
    {
     "name": "stdout",
     "output_type": "stream",
     "text": [
      "Downloading 21/33: ./data/San Marino/LUCL/San Marino21.tif\n"
     ]
    },
    {
     "data": {
      "application/vnd.jupyter.widget-view+json": {
       "model_id": "c705dca237244a378796d727b55c1494",
       "version_major": 2,
       "version_minor": 0
      },
      "text/plain": [
       "San Marino21.tif: |          | 0.00/65.5k (raw) [  0.0%] in 00:00 (eta:     ?)"
      ]
     },
     "metadata": {},
     "output_type": "display_data"
    },
    {
     "name": "stdout",
     "output_type": "stream",
     "text": [
      "Downloading 22/33: ./data/San Marino/LUCL/San Marino22.tif\n"
     ]
    },
    {
     "data": {
      "application/vnd.jupyter.widget-view+json": {
       "model_id": "ccf33233db8a4404bf061ed970a6dd07",
       "version_major": 2,
       "version_minor": 0
      },
      "text/plain": [
       "San Marino22.tif: |          | 0.00/65.5k (raw) [  0.0%] in 00:00 (eta:     ?)"
      ]
     },
     "metadata": {},
     "output_type": "display_data"
    },
    {
     "name": "stdout",
     "output_type": "stream",
     "text": [
      "Downloading 23/33: ./data/San Marino/LUCL/San Marino23.tif\n"
     ]
    },
    {
     "data": {
      "application/vnd.jupyter.widget-view+json": {
       "model_id": "091662869047456a8ee85b5aa85387fe",
       "version_major": 2,
       "version_minor": 0
      },
      "text/plain": [
       "San Marino23.tif: |          | 0.00/65.5k (raw) [  0.0%] in 00:00 (eta:     ?)"
      ]
     },
     "metadata": {},
     "output_type": "display_data"
    },
    {
     "name": "stdout",
     "output_type": "stream",
     "text": [
      "Downloading 24/33: ./data/San Marino/LUCL/San Marino24.tif\n"
     ]
    },
    {
     "data": {
      "application/vnd.jupyter.widget-view+json": {
       "model_id": "8c827f640ae14e859b78abe5fabcedef",
       "version_major": 2,
       "version_minor": 0
      },
      "text/plain": [
       "San Marino24.tif: |          | 0.00/65.5k (raw) [  0.0%] in 00:00 (eta:     ?)"
      ]
     },
     "metadata": {},
     "output_type": "display_data"
    },
    {
     "name": "stdout",
     "output_type": "stream",
     "text": [
      "Downloading 25/33: ./data/San Marino/LUCL/San Marino25.tif\n"
     ]
    },
    {
     "data": {
      "application/vnd.jupyter.widget-view+json": {
       "model_id": "96bbca62707a4d738f09a7d492e7c2c1",
       "version_major": 2,
       "version_minor": 0
      },
      "text/plain": [
       "San Marino25.tif: |          | 0.00/65.5k (raw) [  0.0%] in 00:00 (eta:     ?)"
      ]
     },
     "metadata": {},
     "output_type": "display_data"
    },
    {
     "name": "stdout",
     "output_type": "stream",
     "text": [
      "Downloading 26/33: ./data/San Marino/LUCL/San Marino26.tif\n"
     ]
    },
    {
     "data": {
      "application/vnd.jupyter.widget-view+json": {
       "model_id": "39170b55790f4ab3843c69291f3d1760",
       "version_major": 2,
       "version_minor": 0
      },
      "text/plain": [
       "San Marino26.tif: |          | 0.00/65.5k (raw) [  0.0%] in 00:00 (eta:     ?)"
      ]
     },
     "metadata": {},
     "output_type": "display_data"
    },
    {
     "name": "stdout",
     "output_type": "stream",
     "text": [
      "Downloading 27/33: ./data/San Marino/LUCL/San Marino27.tif\n"
     ]
    },
    {
     "data": {
      "application/vnd.jupyter.widget-view+json": {
       "model_id": "db382915fdb74de99ca8a6e87cb70460",
       "version_major": 2,
       "version_minor": 0
      },
      "text/plain": [
       "San Marino27.tif: |          | 0.00/65.5k (raw) [  0.0%] in 00:00 (eta:     ?)"
      ]
     },
     "metadata": {},
     "output_type": "display_data"
    },
    {
     "name": "stdout",
     "output_type": "stream",
     "text": [
      "Downloading 28/33: ./data/San Marino/LUCL/San Marino28.tif\n"
     ]
    },
    {
     "data": {
      "application/vnd.jupyter.widget-view+json": {
       "model_id": "75e30f297ad943c19bb799fd656c2515",
       "version_major": 2,
       "version_minor": 0
      },
      "text/plain": [
       "San Marino28.tif: |          | 0.00/65.5k (raw) [  0.0%] in 00:00 (eta:     ?)"
      ]
     },
     "metadata": {},
     "output_type": "display_data"
    },
    {
     "name": "stdout",
     "output_type": "stream",
     "text": [
      "Downloading 29/33: ./data/San Marino/LUCL/San Marino29.tif\n"
     ]
    },
    {
     "data": {
      "application/vnd.jupyter.widget-view+json": {
       "model_id": "6d3e3a2d6c2749c898a53e9a68032806",
       "version_major": 2,
       "version_minor": 0
      },
      "text/plain": [
       "San Marino29.tif: |          | 0.00/65.5k (raw) [  0.0%] in 00:00 (eta:     ?)"
      ]
     },
     "metadata": {},
     "output_type": "display_data"
    },
    {
     "name": "stdout",
     "output_type": "stream",
     "text": [
      "Downloading 30/33: ./data/San Marino/LUCL/San Marino30.tif\n"
     ]
    },
    {
     "data": {
      "application/vnd.jupyter.widget-view+json": {
       "model_id": "2f15185995464310adb9555e5ea8b5b9",
       "version_major": 2,
       "version_minor": 0
      },
      "text/plain": [
       "San Marino30.tif: |          | 0.00/65.5k (raw) [  0.0%] in 00:00 (eta:     ?)"
      ]
     },
     "metadata": {},
     "output_type": "display_data"
    },
    {
     "name": "stdout",
     "output_type": "stream",
     "text": [
      "Downloading 31/33: ./data/San Marino/LUCL/San Marino31.tif\n"
     ]
    },
    {
     "data": {
      "application/vnd.jupyter.widget-view+json": {
       "model_id": "085498cf0e884590a0ffa350ed10fc33",
       "version_major": 2,
       "version_minor": 0
      },
      "text/plain": [
       "San Marino31.tif: |          | 0.00/65.5k (raw) [  0.0%] in 00:00 (eta:     ?)"
      ]
     },
     "metadata": {},
     "output_type": "display_data"
    },
    {
     "name": "stdout",
     "output_type": "stream",
     "text": [
      "Downloading 32/33: ./data/San Marino/LUCL/San Marino32.tif\n"
     ]
    },
    {
     "data": {
      "application/vnd.jupyter.widget-view+json": {
       "model_id": "7233a5f22c1f43b9a41c38af88d4bbc5",
       "version_major": 2,
       "version_minor": 0
      },
      "text/plain": [
       "San Marino32.tif: |          | 0.00/65.5k (raw) [  0.0%] in 00:00 (eta:     ?)"
      ]
     },
     "metadata": {},
     "output_type": "display_data"
    },
    {
     "name": "stdout",
     "output_type": "stream",
     "text": [
      "Downloading 33/33: ./data/San Marino/LUCL/San Marino33.tif\n"
     ]
    },
    {
     "data": {
      "application/vnd.jupyter.widget-view+json": {
       "model_id": "cf83ecd1184d459e87f00322dec6d778",
       "version_major": 2,
       "version_minor": 0
      },
      "text/plain": [
       "San Marino33.tif: |          | 0.00/65.5k (raw) [  0.0%] in 00:00 (eta:     ?)"
      ]
     },
     "metadata": {},
     "output_type": "display_data"
    },
    {
     "name": "stdout",
     "output_type": "stream",
     "text": [
      "Downloaded 33 tiles in 106.07748174667358 seconds.\n"
     ]
    }
   ],
   "source": [
    "print('Downloading land cover image...')\n",
    "\n",
    "LUCL_FOLDER = f'{OUTPUT_FOLDER}/LUCL'\n",
    "\n",
    "if not os.path.exists(LUCL_FOLDER):\n",
    "    os.makedirs(LUCL_FOLDER)\n",
    "    \n",
    "geemap.download_ee_image_tiles(\n",
    "    land_cover_image,\n",
    "    features=grid,\n",
    "    out_dir=LUCL_FOLDER,\n",
    "    prefix=COUNTRY,\n",
    "    scale=10,\n",
    "    crs=\"EPSG:3857\"\n",
    ")\n",
    "\n"
   ]
  },
  {
   "cell_type": "code",
   "execution_count": 2,
   "metadata": {},
   "outputs": [],
   "source": [
    "import tifffile\n",
    "\n",
    "# read the images\n",
    "path = f\"/media/daniel/data/sentinel2/Belgium_summer2022/images/Belgium_image_tile_0032.tif\""
   ]
  },
  {
   "cell_type": "code",
   "execution_count": 3,
   "metadata": {},
   "outputs": [
    {
     "ename": "ValueError",
     "evalue": "<COMPRESSION.ADOBE_DEFLATE: 8> requires the 'imagecodecs' package",
     "output_type": "error",
     "traceback": [
      "\u001b[0;31m---------------------------------------------------------------------------\u001b[0m",
      "\u001b[0;31mValueError\u001b[0m                                Traceback (most recent call last)",
      "\u001b[0;32m/tmp/ipykernel_10108/3068762704.py\u001b[0m in \u001b[0;36m?\u001b[0;34m()\u001b[0m\n\u001b[1;32m      1\u001b[0m \u001b[0;32mimport\u001b[0m \u001b[0mnumpy\u001b[0m \u001b[0;32mas\u001b[0m \u001b[0mnp\u001b[0m\u001b[0;34m\u001b[0m\u001b[0;34m\u001b[0m\u001b[0m\n\u001b[1;32m      2\u001b[0m \u001b[0;34m\u001b[0m\u001b[0m\n\u001b[0;32m----> 3\u001b[0;31m \u001b[0mimg\u001b[0m \u001b[0;34m=\u001b[0m \u001b[0mtifffile\u001b[0m\u001b[0;34m.\u001b[0m\u001b[0mimread\u001b[0m\u001b[0;34m(\u001b[0m\u001b[0mpath\u001b[0m\u001b[0;34m)\u001b[0m\u001b[0;34m\u001b[0m\u001b[0;34m\u001b[0m\u001b[0m\n\u001b[0m\u001b[1;32m      4\u001b[0m \u001b[0;34m\u001b[0m\u001b[0m\n\u001b[1;32m      5\u001b[0m \u001b[0md\u001b[0m \u001b[0;34m=\u001b[0m \u001b[0mimg\u001b[0m\u001b[0;34m\u001b[0m\u001b[0;34m\u001b[0m\u001b[0m\n\u001b[1;32m      6\u001b[0m \u001b[0md\u001b[0m\u001b[0;34m[\u001b[0m\u001b[0mnp\u001b[0m\u001b[0;34m.\u001b[0m\u001b[0misnan\u001b[0m\u001b[0;34m(\u001b[0m\u001b[0md\u001b[0m\u001b[0;34m)\u001b[0m\u001b[0;34m]\u001b[0m \u001b[0;34m=\u001b[0m \u001b[0;36m0\u001b[0m\u001b[0;34m\u001b[0m\u001b[0;34m\u001b[0m\u001b[0m\n",
      "\u001b[0;32m~/miniconda3/envs/forest-segmentation/lib/python3.11/site-packages/tifffile/tifffile.py\u001b[0m in \u001b[0;36m?\u001b[0;34m(files, selection, aszarr, key, series, level, squeeze, maxworkers, mode, name, offset, size, pattern, axesorder, categories, imread, sort, container, chunkshape, dtype, axestiled, ioworkers, chunkmode, fillvalue, zattrs, multiscales, omexml, out, out_inplace, _multifile, _useframes, **kwargs)\u001b[0m\n\u001b[1;32m   1088\u001b[0m                     )\n\u001b[1;32m   1089\u001b[0m                     \u001b[0;32mif\u001b[0m \u001b[0mselection\u001b[0m \u001b[0;32mis\u001b[0m \u001b[0;32mNone\u001b[0m\u001b[0;34m:\u001b[0m\u001b[0;34m\u001b[0m\u001b[0;34m\u001b[0m\u001b[0m\n\u001b[1;32m   1090\u001b[0m                         \u001b[0;32mreturn\u001b[0m \u001b[0mstore\u001b[0m\u001b[0;34m\u001b[0m\u001b[0;34m\u001b[0m\u001b[0m\n\u001b[1;32m   1091\u001b[0m                     \u001b[0;32mreturn\u001b[0m \u001b[0mzarr_selection\u001b[0m\u001b[0;34m(\u001b[0m\u001b[0mstore\u001b[0m\u001b[0;34m,\u001b[0m \u001b[0mselection\u001b[0m\u001b[0;34m,\u001b[0m \u001b[0mout\u001b[0m\u001b[0;34m=\u001b[0m\u001b[0mout\u001b[0m\u001b[0;34m)\u001b[0m\u001b[0;34m\u001b[0m\u001b[0;34m\u001b[0m\u001b[0m\n\u001b[0;32m-> 1092\u001b[0;31m                 return tif.asarray(\n\u001b[0m\u001b[1;32m   1093\u001b[0m                     \u001b[0mkey\u001b[0m\u001b[0;34m=\u001b[0m\u001b[0mkey\u001b[0m\u001b[0;34m,\u001b[0m\u001b[0;34m\u001b[0m\u001b[0;34m\u001b[0m\u001b[0m\n\u001b[1;32m   1094\u001b[0m                     \u001b[0mseries\u001b[0m\u001b[0;34m=\u001b[0m\u001b[0mseries\u001b[0m\u001b[0;34m,\u001b[0m\u001b[0;34m\u001b[0m\u001b[0;34m\u001b[0m\u001b[0m\n\u001b[1;32m   1095\u001b[0m                     \u001b[0mlevel\u001b[0m\u001b[0;34m=\u001b[0m\u001b[0mlevel\u001b[0m\u001b[0;34m,\u001b[0m\u001b[0;34m\u001b[0m\u001b[0;34m\u001b[0m\u001b[0m\n",
      "\u001b[0;32m~/miniconda3/envs/forest-segmentation/lib/python3.11/site-packages/tifffile/tifffile.py\u001b[0m in \u001b[0;36m?\u001b[0;34m(self, key, series, level, squeeze, out, maxworkers)\u001b[0m\n\u001b[1;32m   4295\u001b[0m         \u001b[0;32melif\u001b[0m \u001b[0mlen\u001b[0m\u001b[0;34m(\u001b[0m\u001b[0mpages\u001b[0m\u001b[0;34m)\u001b[0m \u001b[0;34m==\u001b[0m \u001b[0;36m1\u001b[0m\u001b[0;34m:\u001b[0m\u001b[0;34m\u001b[0m\u001b[0;34m\u001b[0m\u001b[0m\n\u001b[1;32m   4296\u001b[0m             \u001b[0mpage0\u001b[0m \u001b[0;34m=\u001b[0m \u001b[0mpages\u001b[0m\u001b[0;34m[\u001b[0m\u001b[0;36m0\u001b[0m\u001b[0;34m]\u001b[0m\u001b[0;34m\u001b[0m\u001b[0;34m\u001b[0m\u001b[0m\n\u001b[1;32m   4297\u001b[0m             \u001b[0;32mif\u001b[0m \u001b[0mpage0\u001b[0m \u001b[0;32mis\u001b[0m \u001b[0;32mNone\u001b[0m\u001b[0;34m:\u001b[0m\u001b[0;34m\u001b[0m\u001b[0;34m\u001b[0m\u001b[0m\n\u001b[1;32m   4298\u001b[0m                 \u001b[0;32mraise\u001b[0m \u001b[0mValueError\u001b[0m\u001b[0;34m(\u001b[0m\u001b[0;34m'page is None'\u001b[0m\u001b[0;34m)\u001b[0m\u001b[0;34m\u001b[0m\u001b[0;34m\u001b[0m\u001b[0m\n\u001b[0;32m-> 4299\u001b[0;31m             \u001b[0mresult\u001b[0m \u001b[0;34m=\u001b[0m \u001b[0mpage0\u001b[0m\u001b[0;34m.\u001b[0m\u001b[0masarray\u001b[0m\u001b[0;34m(\u001b[0m\u001b[0mout\u001b[0m\u001b[0;34m=\u001b[0m\u001b[0mout\u001b[0m\u001b[0;34m,\u001b[0m \u001b[0mmaxworkers\u001b[0m\u001b[0;34m=\u001b[0m\u001b[0mmaxworkers\u001b[0m\u001b[0;34m)\u001b[0m\u001b[0;34m\u001b[0m\u001b[0;34m\u001b[0m\u001b[0m\n\u001b[0m\u001b[1;32m   4300\u001b[0m         \u001b[0;32melse\u001b[0m\u001b[0;34m:\u001b[0m\u001b[0;34m\u001b[0m\u001b[0;34m\u001b[0m\u001b[0m\n\u001b[1;32m   4301\u001b[0m             \u001b[0mresult\u001b[0m \u001b[0;34m=\u001b[0m \u001b[0mstack_pages\u001b[0m\u001b[0;34m(\u001b[0m\u001b[0mpages\u001b[0m\u001b[0;34m,\u001b[0m \u001b[0mout\u001b[0m\u001b[0;34m=\u001b[0m\u001b[0mout\u001b[0m\u001b[0;34m,\u001b[0m \u001b[0mmaxworkers\u001b[0m\u001b[0;34m=\u001b[0m\u001b[0mmaxworkers\u001b[0m\u001b[0;34m)\u001b[0m\u001b[0;34m\u001b[0m\u001b[0;34m\u001b[0m\u001b[0m\n\u001b[1;32m   4302\u001b[0m \u001b[0;34m\u001b[0m\u001b[0m\n",
      "\u001b[0;32m~/miniconda3/envs/forest-segmentation/lib/python3.11/site-packages/tifffile/tifffile.py\u001b[0m in \u001b[0;36m?\u001b[0;34m(self, out, squeeze, lock, maxworkers)\u001b[0m\n\u001b[1;32m   9026\u001b[0m                     ]\n\u001b[1;32m   9027\u001b[0m                 \u001b[0;31m# except IndexError:\u001b[0m\u001b[0;34m\u001b[0m\u001b[0;34m\u001b[0m\u001b[0m\n\u001b[1;32m   9028\u001b[0m                 \u001b[0;31m#     pass  # corrupted file, for example, with too many strips\u001b[0m\u001b[0;34m\u001b[0m\u001b[0;34m\u001b[0m\u001b[0m\n\u001b[1;32m   9029\u001b[0m \u001b[0;34m\u001b[0m\u001b[0m\n\u001b[0;32m-> 9030\u001b[0;31m             for _ in self.segments(\n\u001b[0m\u001b[1;32m   9031\u001b[0m                 \u001b[0mfunc\u001b[0m\u001b[0;34m=\u001b[0m\u001b[0mfunc\u001b[0m\u001b[0;34m,\u001b[0m\u001b[0;34m\u001b[0m\u001b[0;34m\u001b[0m\u001b[0m\n\u001b[1;32m   9032\u001b[0m                 \u001b[0mlock\u001b[0m\u001b[0;34m=\u001b[0m\u001b[0mlock\u001b[0m\u001b[0;34m,\u001b[0m\u001b[0;34m\u001b[0m\u001b[0;34m\u001b[0m\u001b[0m\n\u001b[1;32m   9033\u001b[0m                 \u001b[0mmaxworkers\u001b[0m\u001b[0;34m=\u001b[0m\u001b[0mmaxworkers\u001b[0m\u001b[0;34m,\u001b[0m\u001b[0;34m\u001b[0m\u001b[0;34m\u001b[0m\u001b[0m\n",
      "\u001b[0;32m~/miniconda3/envs/forest-segmentation/lib/python3.11/site-packages/tifffile/tifffile.py\u001b[0m in \u001b[0;36m?\u001b[0;34m(self, lock, maxworkers, func, sort, _fullsize)\u001b[0m\n\u001b[1;32m   8840\u001b[0m                     \u001b[0mlock\u001b[0m\u001b[0;34m=\u001b[0m\u001b[0mlock\u001b[0m\u001b[0;34m,\u001b[0m\u001b[0;34m\u001b[0m\u001b[0;34m\u001b[0m\u001b[0m\n\u001b[1;32m   8841\u001b[0m                     \u001b[0msort\u001b[0m\u001b[0;34m=\u001b[0m\u001b[0msort\u001b[0m\u001b[0;34m,\u001b[0m\u001b[0;34m\u001b[0m\u001b[0;34m\u001b[0m\u001b[0m\n\u001b[1;32m   8842\u001b[0m                     \u001b[0mflat\u001b[0m\u001b[0;34m=\u001b[0m\u001b[0;32mFalse\u001b[0m\u001b[0;34m,\u001b[0m\u001b[0;34m\u001b[0m\u001b[0;34m\u001b[0m\u001b[0m\n\u001b[1;32m   8843\u001b[0m                 ):\n\u001b[0;32m-> 8844\u001b[0;31m                     \u001b[0;32myield\u001b[0m \u001b[0;32mfrom\u001b[0m \u001b[0mexecutor\u001b[0m\u001b[0;34m.\u001b[0m\u001b[0mmap\u001b[0m\u001b[0;34m(\u001b[0m\u001b[0mdecode\u001b[0m\u001b[0;34m,\u001b[0m \u001b[0msegments\u001b[0m\u001b[0;34m)\u001b[0m\u001b[0;34m\u001b[0m\u001b[0;34m\u001b[0m\u001b[0m\n\u001b[0m",
      "\u001b[0;32m~/miniconda3/envs/forest-segmentation/lib/python3.11/concurrent/futures/_base.py\u001b[0m in \u001b[0;36m?\u001b[0;34m()\u001b[0m\n\u001b[1;32m    619\u001b[0m                         \u001b[0;32myield\u001b[0m \u001b[0m_result_or_cancel\u001b[0m\u001b[0;34m(\u001b[0m\u001b[0mfs\u001b[0m\u001b[0;34m.\u001b[0m\u001b[0mpop\u001b[0m\u001b[0;34m(\u001b[0m\u001b[0;34m)\u001b[0m\u001b[0;34m)\u001b[0m\u001b[0;34m\u001b[0m\u001b[0;34m\u001b[0m\u001b[0m\n\u001b[1;32m    620\u001b[0m                     \u001b[0;32melse\u001b[0m\u001b[0;34m:\u001b[0m\u001b[0;34m\u001b[0m\u001b[0;34m\u001b[0m\u001b[0m\n\u001b[1;32m    621\u001b[0m                         \u001b[0;32myield\u001b[0m \u001b[0m_result_or_cancel\u001b[0m\u001b[0;34m(\u001b[0m\u001b[0mfs\u001b[0m\u001b[0;34m.\u001b[0m\u001b[0mpop\u001b[0m\u001b[0;34m(\u001b[0m\u001b[0;34m)\u001b[0m\u001b[0;34m,\u001b[0m \u001b[0mend_time\u001b[0m \u001b[0;34m-\u001b[0m \u001b[0mtime\u001b[0m\u001b[0;34m.\u001b[0m\u001b[0mmonotonic\u001b[0m\u001b[0;34m(\u001b[0m\u001b[0;34m)\u001b[0m\u001b[0;34m)\u001b[0m\u001b[0;34m\u001b[0m\u001b[0;34m\u001b[0m\u001b[0m\n\u001b[1;32m    622\u001b[0m             \u001b[0;32mfinally\u001b[0m\u001b[0;34m:\u001b[0m\u001b[0;34m\u001b[0m\u001b[0;34m\u001b[0m\u001b[0m\n\u001b[0;32m--> 623\u001b[0;31m                 \u001b[0;32mfor\u001b[0m \u001b[0mfuture\u001b[0m \u001b[0;32min\u001b[0m \u001b[0mfs\u001b[0m\u001b[0;34m:\u001b[0m\u001b[0;34m\u001b[0m\u001b[0;34m\u001b[0m\u001b[0m\n\u001b[0m\u001b[1;32m    624\u001b[0m                     \u001b[0mfuture\u001b[0m\u001b[0;34m.\u001b[0m\u001b[0mcancel\u001b[0m\u001b[0;34m(\u001b[0m\u001b[0;34m)\u001b[0m\u001b[0;34m\u001b[0m\u001b[0;34m\u001b[0m\u001b[0m\n",
      "\u001b[0;32m~/miniconda3/envs/forest-segmentation/lib/python3.11/concurrent/futures/_base.py\u001b[0m in \u001b[0;36m?\u001b[0;34m(***failed resolving arguments***)\u001b[0m\n\u001b[1;32m    318\u001b[0m         \u001b[0;32mfinally\u001b[0m\u001b[0;34m:\u001b[0m\u001b[0;34m\u001b[0m\u001b[0;34m\u001b[0m\u001b[0m\n\u001b[1;32m    319\u001b[0m             \u001b[0mfut\u001b[0m\u001b[0;34m.\u001b[0m\u001b[0mcancel\u001b[0m\u001b[0;34m(\u001b[0m\u001b[0;34m)\u001b[0m\u001b[0;34m\u001b[0m\u001b[0;34m\u001b[0m\u001b[0m\n\u001b[1;32m    320\u001b[0m     \u001b[0;32mfinally\u001b[0m\u001b[0;34m:\u001b[0m\u001b[0;34m\u001b[0m\u001b[0;34m\u001b[0m\u001b[0m\n\u001b[1;32m    321\u001b[0m         \u001b[0;31m# Break a reference cycle with the exception in self._exception\u001b[0m\u001b[0;34m\u001b[0m\u001b[0;34m\u001b[0m\u001b[0m\n\u001b[0;32m--> 322\u001b[0;31m         \u001b[0;32mdel\u001b[0m \u001b[0mfut\u001b[0m\u001b[0;34m\u001b[0m\u001b[0;34m\u001b[0m\u001b[0m\n\u001b[0m",
      "\u001b[0;32m~/miniconda3/envs/forest-segmentation/lib/python3.11/concurrent/futures/_base.py\u001b[0m in \u001b[0;36m?\u001b[0;34m(self, timeout)\u001b[0m\n\u001b[1;32m    457\u001b[0m                 \u001b[0;32melse\u001b[0m\u001b[0;34m:\u001b[0m\u001b[0;34m\u001b[0m\u001b[0;34m\u001b[0m\u001b[0m\n\u001b[1;32m    458\u001b[0m                     \u001b[0;32mraise\u001b[0m \u001b[0mTimeoutError\u001b[0m\u001b[0;34m(\u001b[0m\u001b[0;34m)\u001b[0m\u001b[0;34m\u001b[0m\u001b[0;34m\u001b[0m\u001b[0m\n\u001b[1;32m    459\u001b[0m         \u001b[0;32mfinally\u001b[0m\u001b[0;34m:\u001b[0m\u001b[0;34m\u001b[0m\u001b[0;34m\u001b[0m\u001b[0m\n\u001b[1;32m    460\u001b[0m             \u001b[0;31m# Break a reference cycle with the exception in self._exception\u001b[0m\u001b[0;34m\u001b[0m\u001b[0;34m\u001b[0m\u001b[0m\n\u001b[0;32m--> 461\u001b[0;31m             \u001b[0mself\u001b[0m \u001b[0;34m=\u001b[0m \u001b[0;32mNone\u001b[0m\u001b[0;34m\u001b[0m\u001b[0;34m\u001b[0m\u001b[0m\n\u001b[0m",
      "\u001b[0;32m~/miniconda3/envs/forest-segmentation/lib/python3.11/concurrent/futures/_base.py\u001b[0m in \u001b[0;36m?\u001b[0;34m(self)\u001b[0m\n\u001b[1;32m    400\u001b[0m             \u001b[0;32mtry\u001b[0m\u001b[0;34m:\u001b[0m\u001b[0;34m\u001b[0m\u001b[0;34m\u001b[0m\u001b[0m\n\u001b[1;32m    401\u001b[0m                 \u001b[0;32mraise\u001b[0m \u001b[0mself\u001b[0m\u001b[0;34m.\u001b[0m\u001b[0m_exception\u001b[0m\u001b[0;34m\u001b[0m\u001b[0;34m\u001b[0m\u001b[0m\n\u001b[1;32m    402\u001b[0m             \u001b[0;32mfinally\u001b[0m\u001b[0;34m:\u001b[0m\u001b[0;34m\u001b[0m\u001b[0;34m\u001b[0m\u001b[0m\n\u001b[1;32m    403\u001b[0m                 \u001b[0;31m# Break a reference cycle with the exception in self._exception\u001b[0m\u001b[0;34m\u001b[0m\u001b[0;34m\u001b[0m\u001b[0m\n\u001b[0;32m--> 404\u001b[0;31m                 \u001b[0mself\u001b[0m \u001b[0;34m=\u001b[0m \u001b[0;32mNone\u001b[0m\u001b[0;34m\u001b[0m\u001b[0;34m\u001b[0m\u001b[0m\n\u001b[0m\u001b[1;32m    405\u001b[0m         \u001b[0;32melse\u001b[0m\u001b[0;34m:\u001b[0m\u001b[0;34m\u001b[0m\u001b[0;34m\u001b[0m\u001b[0m\n\u001b[1;32m    406\u001b[0m             \u001b[0;32mreturn\u001b[0m \u001b[0mself\u001b[0m\u001b[0;34m.\u001b[0m\u001b[0m_result\u001b[0m\u001b[0;34m\u001b[0m\u001b[0;34m\u001b[0m\u001b[0m\n",
      "\u001b[0;32m~/miniconda3/envs/forest-segmentation/lib/python3.11/concurrent/futures/thread.py\u001b[0m in \u001b[0;36m?\u001b[0;34m(self)\u001b[0m\n\u001b[1;32m     58\u001b[0m             \u001b[0mresult\u001b[0m \u001b[0;34m=\u001b[0m \u001b[0mself\u001b[0m\u001b[0;34m.\u001b[0m\u001b[0mfn\u001b[0m\u001b[0;34m(\u001b[0m\u001b[0;34m*\u001b[0m\u001b[0mself\u001b[0m\u001b[0;34m.\u001b[0m\u001b[0margs\u001b[0m\u001b[0;34m,\u001b[0m \u001b[0;34m**\u001b[0m\u001b[0mself\u001b[0m\u001b[0;34m.\u001b[0m\u001b[0mkwargs\u001b[0m\u001b[0;34m)\u001b[0m\u001b[0;34m\u001b[0m\u001b[0;34m\u001b[0m\u001b[0m\n\u001b[1;32m     59\u001b[0m         \u001b[0;32mexcept\u001b[0m \u001b[0mBaseException\u001b[0m \u001b[0;32mas\u001b[0m \u001b[0mexc\u001b[0m\u001b[0;34m:\u001b[0m\u001b[0;34m\u001b[0m\u001b[0;34m\u001b[0m\u001b[0m\n\u001b[1;32m     60\u001b[0m             \u001b[0mself\u001b[0m\u001b[0;34m.\u001b[0m\u001b[0mfuture\u001b[0m\u001b[0;34m.\u001b[0m\u001b[0mset_exception\u001b[0m\u001b[0;34m(\u001b[0m\u001b[0mexc\u001b[0m\u001b[0;34m)\u001b[0m\u001b[0;34m\u001b[0m\u001b[0;34m\u001b[0m\u001b[0m\n\u001b[1;32m     61\u001b[0m             \u001b[0;31m# Break a reference cycle with the exception 'exc'\u001b[0m\u001b[0;34m\u001b[0m\u001b[0;34m\u001b[0m\u001b[0m\n\u001b[0;32m---> 62\u001b[0;31m             \u001b[0mself\u001b[0m \u001b[0;34m=\u001b[0m \u001b[0;32mNone\u001b[0m\u001b[0;34m\u001b[0m\u001b[0;34m\u001b[0m\u001b[0m\n\u001b[0m\u001b[1;32m     63\u001b[0m         \u001b[0;32melse\u001b[0m\u001b[0;34m:\u001b[0m\u001b[0;34m\u001b[0m\u001b[0;34m\u001b[0m\u001b[0m\n\u001b[1;32m     64\u001b[0m             \u001b[0mself\u001b[0m\u001b[0;34m.\u001b[0m\u001b[0mfuture\u001b[0m\u001b[0;34m.\u001b[0m\u001b[0mset_result\u001b[0m\u001b[0;34m(\u001b[0m\u001b[0mresult\u001b[0m\u001b[0;34m)\u001b[0m\u001b[0;34m\u001b[0m\u001b[0;34m\u001b[0m\u001b[0m\n",
      "\u001b[0;32m~/miniconda3/envs/forest-segmentation/lib/python3.11/site-packages/tifffile/tifffile.py\u001b[0m in \u001b[0;36m?\u001b[0;34m(args, decodeargs, decode)\u001b[0m\n\u001b[1;32m   8818\u001b[0m             \u001b[0;32mdef\u001b[0m \u001b[0mdecode\u001b[0m\u001b[0;34m(\u001b[0m\u001b[0margs\u001b[0m\u001b[0;34m,\u001b[0m \u001b[0mdecodeargs\u001b[0m\u001b[0;34m=\u001b[0m\u001b[0mdecodeargs\u001b[0m\u001b[0;34m,\u001b[0m \u001b[0mdecode\u001b[0m\u001b[0;34m=\u001b[0m\u001b[0mkeyframe\u001b[0m\u001b[0;34m.\u001b[0m\u001b[0mdecode\u001b[0m\u001b[0;34m)\u001b[0m\u001b[0;34m:\u001b[0m\u001b[0;34m\u001b[0m\u001b[0;34m\u001b[0m\u001b[0m\n\u001b[0;32m-> 8819\u001b[0;31m                 \u001b[0;32mreturn\u001b[0m \u001b[0mfunc\u001b[0m\u001b[0;34m(\u001b[0m\u001b[0mdecode\u001b[0m\u001b[0;34m(\u001b[0m\u001b[0;34m*\u001b[0m\u001b[0margs\u001b[0m\u001b[0;34m,\u001b[0m \u001b[0;34m**\u001b[0m\u001b[0mdecodeargs\u001b[0m\u001b[0;34m)\u001b[0m\u001b[0;34m)\u001b[0m  \u001b[0;31m# type: ignore\u001b[0m\u001b[0;34m\u001b[0m\u001b[0;34m\u001b[0m\u001b[0m\n\u001b[0m",
      "\u001b[0;32m~/miniconda3/envs/forest-segmentation/lib/python3.11/site-packages/tifffile/tifffile.py\u001b[0m in \u001b[0;36m?\u001b[0;34m(exc, *args, **kwargs)\u001b[0m\n\u001b[1;32m   8246\u001b[0m             \u001b[0;32mdef\u001b[0m \u001b[0mdecode_raise_compression\u001b[0m\u001b[0;34m(\u001b[0m\u001b[0;34m*\u001b[0m\u001b[0margs\u001b[0m\u001b[0;34m,\u001b[0m \u001b[0mexc\u001b[0m\u001b[0;34m=\u001b[0m\u001b[0mstr\u001b[0m\u001b[0;34m(\u001b[0m\u001b[0mexc\u001b[0m\u001b[0;34m)\u001b[0m\u001b[0;34m[\u001b[0m\u001b[0;36m1\u001b[0m\u001b[0;34m:\u001b[0m\u001b[0;34m-\u001b[0m\u001b[0;36m1\u001b[0m\u001b[0;34m]\u001b[0m\u001b[0;34m,\u001b[0m \u001b[0;34m**\u001b[0m\u001b[0mkwargs\u001b[0m\u001b[0;34m)\u001b[0m\u001b[0;34m:\u001b[0m\u001b[0;34m\u001b[0m\u001b[0;34m\u001b[0m\u001b[0m\n\u001b[0;32m-> 8247\u001b[0;31m                 \u001b[0;32mraise\u001b[0m \u001b[0mValueError\u001b[0m\u001b[0;34m(\u001b[0m\u001b[0;34mf'{exc}'\u001b[0m\u001b[0;34m)\u001b[0m\u001b[0;34m\u001b[0m\u001b[0;34m\u001b[0m\u001b[0m\n\u001b[0m",
      "\u001b[0;31mValueError\u001b[0m: <COMPRESSION.ADOBE_DEFLATE: 8> requires the 'imagecodecs' package"
     ]
    }
   ],
   "source": [
    "import numpy as np\n",
    "\n",
    "img = tifffile.imread(path)\n",
    "\n",
    "d = img\n",
    "d[np.isnan(d)] = 0\n",
    "d = d.transpose(1,2,0)[:, :, 1:4]\n",
    "\n",
    "import matplotlib.pyplot as plt\n",
    "d -= np.min(d)\n",
    "d = d/ np.max(d)\n",
    "plt.imshow(d)\n",
    "print(np.max(img, axis=(1,2)))\n",
    "print(np.max(d, axis=(0,1)))\n",
    "print(np.min(img, axis=(1,2)))\n",
    "print(np.min(d, axis=(0,1)))\n",
    "\n"
   ]
  },
  {
   "cell_type": "code",
   "execution_count": 4,
   "metadata": {},
   "outputs": [
    {
     "ename": "",
     "evalue": "",
     "output_type": "error",
     "traceback": [
      "\u001b[1;31mCannot execute code, session has been disposed. Please try restarting the Kernel."
     ]
    },
    {
     "ename": "",
     "evalue": "",
     "output_type": "error",
     "traceback": [
      "\u001b[1;31mThe Kernel crashed while executing code in the the current cell or a previous cell. Please review the code in the cell(s) to identify a possible cause of the failure. Click <a href='https://aka.ms/vscodeJupyterKernelCrash'>here</a> for more info. View Jupyter <a href='command:jupyter.viewOutput'>log</a> for further details."
     ]
    }
   ],
   "source": [
    "with tifffile.TiffFile(path) as tif:\n",
    "    for page in tif.pages:\n",
    "        d = page.asarray()\n",
    "        print(d.shape)\n",
    "    # img = tif.asarray()\n",
    "    # metadata = tif.pages[0].tags"
   ]
  },
  {
   "cell_type": "code",
   "execution_count": 13,
   "metadata": {},
   "outputs": [
    {
     "data": {
      "text/plain": [
       "array([[[nan, nan, nan, ..., nan, nan, nan],\n",
       "        [nan, nan, nan, ..., nan, nan, nan],\n",
       "        [nan, nan, nan, ..., nan, nan, nan],\n",
       "        ...,\n",
       "        [nan, nan, nan, ..., nan, nan, nan],\n",
       "        [nan, nan, nan, ..., nan, nan, nan],\n",
       "        [nan, nan, nan, ..., nan, nan, nan]],\n",
       "\n",
       "       [[nan, nan, nan, ..., nan, nan, nan],\n",
       "        [nan, nan, nan, ..., nan, nan, nan],\n",
       "        [nan, nan, nan, ..., nan, nan, nan],\n",
       "        ...,\n",
       "        [nan, nan, nan, ..., nan, nan, nan],\n",
       "        [nan, nan, nan, ..., nan, nan, nan],\n",
       "        [nan, nan, nan, ..., nan, nan, nan]],\n",
       "\n",
       "       [[nan, nan, nan, ..., nan, nan, nan],\n",
       "        [nan, nan, nan, ..., nan, nan, nan],\n",
       "        [nan, nan, nan, ..., nan, nan, nan],\n",
       "        ...,\n",
       "        [nan, nan, nan, ..., nan, nan, nan],\n",
       "        [nan, nan, nan, ..., nan, nan, nan],\n",
       "        [nan, nan, nan, ..., nan, nan, nan]],\n",
       "\n",
       "       ...,\n",
       "\n",
       "       [[nan, nan, nan, ..., nan, nan, nan],\n",
       "        [nan, nan, nan, ..., nan, nan, nan],\n",
       "        [nan, nan, nan, ..., nan, nan, nan],\n",
       "        ...,\n",
       "        [nan, nan, nan, ..., nan, nan, nan],\n",
       "        [nan, nan, nan, ..., nan, nan, nan],\n",
       "        [nan, nan, nan, ..., nan, nan, nan]],\n",
       "\n",
       "       [[nan, nan, nan, ..., nan, nan, nan],\n",
       "        [nan, nan, nan, ..., nan, nan, nan],\n",
       "        [nan, nan, nan, ..., nan, nan, nan],\n",
       "        ...,\n",
       "        [nan, nan, nan, ..., nan, nan, nan],\n",
       "        [nan, nan, nan, ..., nan, nan, nan],\n",
       "        [nan, nan, nan, ..., nan, nan, nan]],\n",
       "\n",
       "       [[nan, nan, nan, ..., nan, nan, nan],\n",
       "        [nan, nan, nan, ..., nan, nan, nan],\n",
       "        [nan, nan, nan, ..., nan, nan, nan],\n",
       "        ...,\n",
       "        [nan, nan, nan, ..., nan, nan, nan],\n",
       "        [nan, nan, nan, ..., nan, nan, nan],\n",
       "        [nan, nan, nan, ..., nan, nan, nan]]])"
      ]
     },
     "execution_count": 13,
     "metadata": {},
     "output_type": "execute_result"
    }
   ],
   "source": []
  },
  {
   "cell_type": "markdown",
   "metadata": {},
   "source": [
    "## Create patches"
   ]
  },
  {
   "cell_type": "code",
   "execution_count": 15,
   "metadata": {},
   "outputs": [],
   "source": [
    "PATCH_SIZE = 100 \n",
    "PATCH_OUTPUT_FOLDER = './patches'"
   ]
  },
  {
   "cell_type": "code",
   "execution_count": 23,
   "metadata": {},
   "outputs": [],
   "source": [
    "import tifffile\n",
    "import numpy as np\n",
    "import os"
   ]
  },
  {
   "cell_type": "code",
   "execution_count": 24,
   "metadata": {},
   "outputs": [],
   "source": [
    "if not os.path.exists(PATCH_OUTPUT_FOLDER):\n",
    "    os.mkdir(PATCH_OUTPUT_FOLDER)\n",
    "\n",
    "if not os.path.exists(f\"{PATCH_OUTPUT_FOLDER}/images\"):\n",
    "    os.mkdir(f\"{PATCH_OUTPUT_FOLDER}/images\")\n",
    "\n",
    "if not os.path.exists(f\"{PATCH_OUTPUT_FOLDER}/labels\"):\n",
    "    os.mkdir(f\"{PATCH_OUTPUT_FOLDER}/labels\")"
   ]
  },
  {
   "cell_type": "code",
   "execution_count": 25,
   "metadata": {},
   "outputs": [],
   "source": [
    "# data format: (bands, height, width)\n",
    "def create_patches(tiff_image, folder, size):\n",
    "\n",
    "    patch = np.zeros((tiff_image.shape[0], size, size))\n",
    "\n",
    "    for x in range(0, tiff_image.shape[1], size):\n",
    "        for y in range(0, tiff_image.shape[2], size):\n",
    "            \n",
    "            dx = min(size, tiff_image.shape[1] - x)\n",
    "            dy = min(size, tiff_image.shape[2] - y)\n",
    "            \n",
    "            patch[:, :dx, :dy] = tiff_image[:, x:x+dx, y:y+dy]\n",
    "            \n",
    "            tifffile.imwrite(\n",
    "                f'{folder}/{NAME}_{x}_{y}.tif', \n",
    "                patch, \n",
    "            )\n"
   ]
  },
  {
   "cell_type": "code",
   "execution_count": 26,
   "metadata": {},
   "outputs": [],
   "source": [
    "tiff_image = tifffile.imread(f'{OUTPUT_FOLDER}/{NAME}.tif')\n",
    "create_patches(tiff_image, f\"{PATCH_OUTPUT_FOLDER}/images\", PATCH_SIZE)"
   ]
  },
  {
   "cell_type": "code",
   "execution_count": 33,
   "metadata": {},
   "outputs": [],
   "source": [
    "lulc_tiff_image = tifffile.imread(f'{OUTPUT_FOLDER}/{NAME}_LUCL.tif')\n",
    "lulc_tiff_image = np.expand_dims(lulc_tiff_image, axis=0) # need to add a dimension for the band\n",
    "create_patches(lulc_tiff_image, f\"{PATCH_OUTPUT_FOLDER}/labels\", PATCH_SIZE)"
   ]
  },
  {
   "cell_type": "code",
   "execution_count": 32,
   "metadata": {},
   "outputs": [
    {
     "data": {
      "text/plain": [
       "(107, 139)"
      ]
     },
     "execution_count": 32,
     "metadata": {},
     "output_type": "execute_result"
    }
   ],
   "source": [
    "lulc_tiff_image.shape"
   ]
  },
  {
   "cell_type": "markdown",
   "metadata": {},
   "source": [
    "# Google Earth Engine script\n"
   ]
  },
  {
   "cell_type": "markdown",
   "metadata": {},
   "source": [
    "\n",
    "```JS\n",
    "var countries = ee.FeatureCollection(\"USDOS/LSIB_SIMPLE/2017\");\n",
    "\n",
    "var roi = countries.filter(ee.Filter.eq('country_na', 'Belgium'));\n",
    "\n",
    "Map.addLayer(roi, {}, 'Belgium', false);\n",
    "\n",
    "// load Sentinel 2 data\n",
    "\n",
    "\n",
    "function maskS2clouds(image) {\n",
    "  var qa = image.select('QA60');\n",
    "\n",
    "  // Bits 10 and 11 are clouds and cirrus, respectively.\n",
    "  var cloudBitMask = 1 << 10;\n",
    "  var cirrusBitMask = 1 << 11;\n",
    "\n",
    "  // Both flags should be set to zero, indicating clear conditions.\n",
    "  var mask = qa.bitwiseAnd(cloudBitMask).eq(0)\n",
    "      .and(qa.bitwiseAnd(cirrusBitMask).eq(0));\n",
    "\n",
    "  return image.updateMask(mask).divide(10000);\n",
    "}\n",
    "\n",
    "var image = ee.ImageCollection(\"COPERNICUS/S2_SR_HARMONIZED\")\n",
    ".filterDate('2021-01-01', '2021-4-21')\n",
    ".filter(ee.Filter.lt('CLOUDY_PIXEL_PERCENTAGE',20))\n",
    ".filterBounds(roi)\n",
    "// .map(maskS2clouds);\n",
    ".median();\n",
    "\n",
    "var visualization = {\n",
    "  min: 0.0,\n",
    "  max: 0.3,\n",
    "  bands: ['B4', 'B3', 'B2'],\n",
    "};\n",
    "\n",
    "var visparams = { bands: ['B4', 'B3', 'B2'], min: 0, max: 2500, gamma: 1.1 };\n",
    "Map.addLayer(image.clip(roi), visparams, \"Sentinel 2\");\n",
    "Map.centerObject(roi, 8);\n",
    "\n",
    "var dataset = ee.ImageCollection('ESA/WorldCover/v200')\n",
    ".filterBounds(roi)\n",
    ".first();\n",
    "\n",
    "var visualization = {\n",
    "  bands: ['Map'],\n",
    "};\n",
    "Map.addLayer(dataset.clip(roi), visualization, 'Landcover');\n",
    "\n",
    "var bands = ['B1', 'B2', 'B3', 'B4', 'B5', 'B6', 'B7', 'B8', 'B8A', 'B9', 'B11', 'B12']\n",
    "\n",
    "var cover_bands = [10,20,30,40,50,60,70,80,90,95,100]\n",
    "\n",
    "Map.centerObject(dataset);\n",
    "\n",
    "\n",
    "Export.image.toDrive({\n",
    "  image: image.clip(roi).select(bands), \n",
    "  folder: 'Sentinel3',\n",
    "  description: 'large-image', \n",
    "  scale: 10,\n",
    "  shardSize: 256, // this will create 256*256 image patches on the disk\n",
    "  fileDimensions: 256,\n",
    "  formatOptions: {\n",
    "    cloudOptimized: true\n",
    "  },\n",
    "});\n",
    "```"
   ]
  },
  {
   "cell_type": "markdown",
   "metadata": {},
   "source": [
    "# FELS library - using Google cloud stored Sentinel 2 data"
   ]
  },
  {
   "cell_type": "markdown",
   "metadata": {},
   "source": [
    "https://github.com/vascobnunes/fetchLandsatSentinelFromGoogleCloud\n",
    "\n",
    "Instalation:\n",
    "\n",
    "```bash\n",
    "pip install fels\n",
    "```\n",
    "for conda may require:\n",
    "```bash\n",
    "conda config --add channels conda-forge\n",
    "conda install gdal\n",
    "```\n",
    "\n",
    "Usage:\n",
    "\n",
    "```bash\n",
    "fels 31UER S2 2020-01-01 2020-12-31  -o ~/sentinel2 -c 10\n",
    "```\n",
    "fels \\<tile\\> S2 \\<start-date\\> \\<end-date\\> -o \\<output-folder\\> -c \\<cloud-cover\\>\n",
    "\n",
    "fels 31UER S2 2020-01-01 2020-12-31  -o ~/sentinel2 -c 10\n",
    "\n",
    "**<span style=\"color:red\">Use this environment to run only FELS library</span>** all other libraries wont be installed successufully due to unresolved dependencies\n",
    "\n"
   ]
  },
  {
   "cell_type": "code",
   "execution_count": 1,
   "metadata": {},
   "outputs": [],
   "source": [
    "import os\n",
    "import numpy as np\n",
    "import fels"
   ]
  },
  {
   "cell_type": "code",
   "execution_count": 12,
   "metadata": {},
   "outputs": [],
   "source": [
    "TILE = \"31UER\"\n",
    "START_DATE = '2021-01-01'\n",
    "END_DATE = '2021-12-31'\n",
    "CLOUD_COVER = 10\n",
    "OUTPUT_FOLDER = os.path.expanduser(f'~/{TILE}/')\n",
    "\n",
    "if not os.path.exists(OUTPUT_FOLDER):\n",
    "    os.makedirs(OUTPUT_FOLDER)"
   ]
  },
  {
   "cell_type": "code",
   "execution_count": 14,
   "metadata": {},
   "outputs": [
    {
     "name": "stdout",
     "output_type": "stream",
     "text": [
      "Searching for Sentinel-2 images in catalog...\n"
     ]
    },
    {
     "ename": "TypeError",
     "evalue": "'NoneType' object is not subscriptable",
     "output_type": "error",
     "traceback": [
      "\u001b[0;31m---------------------------------------------------------------------------\u001b[0m",
      "\u001b[0;31mTypeError\u001b[0m                                 Traceback (most recent call last)",
      "\u001b[1;32m/home/daniel/Documents/my work/download_sentinel_data.ipynb Cell 21\u001b[0m line \u001b[0;36m1\n\u001b[0;32m----> <a href='vscode-notebook-cell:/home/daniel/Documents/my%20work/download_sentinel_data.ipynb#Y142sZmlsZQ%3D%3D?line=0'>1</a>\u001b[0m urls \u001b[39m=\u001b[39m fels\u001b[39m.\u001b[39;49mrun_fels(\n\u001b[1;32m      <a href='vscode-notebook-cell:/home/daniel/Documents/my%20work/download_sentinel_data.ipynb#Y142sZmlsZQ%3D%3D?line=1'>2</a>\u001b[0m     TILE,\n\u001b[1;32m      <a href='vscode-notebook-cell:/home/daniel/Documents/my%20work/download_sentinel_data.ipynb#Y142sZmlsZQ%3D%3D?line=2'>3</a>\u001b[0m     \u001b[39m\"\u001b[39;49m\u001b[39mS2\u001b[39;49m\u001b[39m\"\u001b[39;49m,\n\u001b[1;32m      <a href='vscode-notebook-cell:/home/daniel/Documents/my%20work/download_sentinel_data.ipynb#Y142sZmlsZQ%3D%3D?line=3'>4</a>\u001b[0m     START_DATE,\n\u001b[1;32m      <a href='vscode-notebook-cell:/home/daniel/Documents/my%20work/download_sentinel_data.ipynb#Y142sZmlsZQ%3D%3D?line=4'>5</a>\u001b[0m     END_DATE,\n\u001b[1;32m      <a href='vscode-notebook-cell:/home/daniel/Documents/my%20work/download_sentinel_data.ipynb#Y142sZmlsZQ%3D%3D?line=5'>6</a>\u001b[0m     cloudcover\u001b[39m=\u001b[39;49mCLOUD_COVER,\n\u001b[1;32m      <a href='vscode-notebook-cell:/home/daniel/Documents/my%20work/download_sentinel_data.ipynb#Y142sZmlsZQ%3D%3D?line=6'>7</a>\u001b[0m     output\u001b[39m=\u001b[39;49mOUTPUT_FOLDER,\n\u001b[1;32m      <a href='vscode-notebook-cell:/home/daniel/Documents/my%20work/download_sentinel_data.ipynb#Y142sZmlsZQ%3D%3D?line=7'>8</a>\u001b[0m     \u001b[39m# geometry=roi.geometry(),\u001b[39;49;00m\n\u001b[1;32m      <a href='vscode-notebook-cell:/home/daniel/Documents/my%20work/download_sentinel_data.ipynb#Y142sZmlsZQ%3D%3D?line=8'>9</a>\u001b[0m     outputcatalogs\u001b[39m=\u001b[39;49mos\u001b[39m.\u001b[39;49mpath\u001b[39m.\u001b[39;49mexpanduser(\u001b[39m'\u001b[39;49m\u001b[39m~/fels/\u001b[39;49m\u001b[39m'\u001b[39;49m)\n\u001b[1;32m     <a href='vscode-notebook-cell:/home/daniel/Documents/my%20work/download_sentinel_data.ipynb#Y142sZmlsZQ%3D%3D?line=9'>10</a>\u001b[0m )\n",
      "File \u001b[0;32m~/miniconda3/envs/fetchSentinel/lib/python3.11/site-packages/fels/fels.py:150\u001b[0m, in \u001b[0;36mrun_fels\u001b[0;34m(*args, **kwargs)\u001b[0m\n\u001b[1;32m    147\u001b[0m options \u001b[39m=\u001b[39m argparse\u001b[39m.\u001b[39mNamespace(\u001b[39m*\u001b[39m\u001b[39m*\u001b[39moptions_dict)\n\u001b[1;32m    149\u001b[0m \u001b[39m# call fels\u001b[39;00m\n\u001b[0;32m--> 150\u001b[0m \u001b[39mreturn\u001b[39;00m _run_fels(options)\n",
      "File \u001b[0;32m~/miniconda3/envs/fetchSentinel/lib/python3.11/site-packages/fels/fels.py:177\u001b[0m, in \u001b[0;36m_run_fels\u001b[0;34m(options)\u001b[0m\n\u001b[1;32m    175\u001b[0m \u001b[39mif\u001b[39;00m options\u001b[39m.\u001b[39msat \u001b[39m==\u001b[39m \u001b[39m'\u001b[39m\u001b[39mS2\u001b[39m\u001b[39m'\u001b[39m:\n\u001b[1;32m    176\u001b[0m     sentinel2_metadata_file \u001b[39m=\u001b[39m download_metadata_file(SENTINEL2_METADATA_URL, options\u001b[39m.\u001b[39moutputcatalogs, \u001b[39m'\u001b[39m\u001b[39mSentinel\u001b[39m\u001b[39m'\u001b[39m)\n\u001b[0;32m--> 177\u001b[0m     url \u001b[39m=\u001b[39m query_sentinel2_catalogue(sentinel2_metadata_file, options\u001b[39m.\u001b[39;49mcloudcover, options\u001b[39m.\u001b[39;49mstart_date, options\u001b[39m.\u001b[39;49mend_date, scene, options\u001b[39m.\u001b[39;49mlatest)\n\u001b[1;32m    178\u001b[0m     \u001b[39mif\u001b[39;00m \u001b[39mnot\u001b[39;00m url:\n\u001b[1;32m    179\u001b[0m         \u001b[39mprint\u001b[39m(\u001b[39m\"\u001b[39m\u001b[39mNo image was found with the criteria you chose! Please review your parameters and try again.\u001b[39m\u001b[39m\"\u001b[39m)\n",
      "File \u001b[0;32m~/miniconda3/envs/fetchSentinel/lib/python3.11/site-packages/fels/sentinel2.py:35\u001b[0m, in \u001b[0;36mquery_sentinel2_catalogue\u001b[0;34m(collection_file, cc_limit, date_start, date_end, tile, latest)\u001b[0m\n\u001b[1;32m     33\u001b[0m reader \u001b[39m=\u001b[39m csv\u001b[39m.\u001b[39mDictReader(csvfile)\n\u001b[1;32m     34\u001b[0m \u001b[39mfor\u001b[39;00m row \u001b[39min\u001b[39;00m reader:\n\u001b[0;32m---> 35\u001b[0m     year_acq \u001b[39m=\u001b[39m \u001b[39mint\u001b[39m(row[\u001b[39m'\u001b[39;49m\u001b[39mSENSING_TIME\u001b[39;49m\u001b[39m'\u001b[39;49m][\u001b[39m0\u001b[39;49m:\u001b[39m4\u001b[39;49m])\n\u001b[1;32m     36\u001b[0m     month_acq \u001b[39m=\u001b[39m \u001b[39mint\u001b[39m(row[\u001b[39m'\u001b[39m\u001b[39mSENSING_TIME\u001b[39m\u001b[39m'\u001b[39m][\u001b[39m5\u001b[39m:\u001b[39m7\u001b[39m])\n\u001b[1;32m     37\u001b[0m     day_acq \u001b[39m=\u001b[39m \u001b[39mint\u001b[39m(row[\u001b[39m'\u001b[39m\u001b[39mSENSING_TIME\u001b[39m\u001b[39m'\u001b[39m][\u001b[39m8\u001b[39m:\u001b[39m10\u001b[39m])\n",
      "\u001b[0;31mTypeError\u001b[0m: 'NoneType' object is not subscriptable"
     ]
    }
   ],
   "source": [
    "\n",
    "urls = fels.run_fels(\n",
    "    TILE,\n",
    "    \"S2\",\n",
    "    START_DATE,\n",
    "    END_DATE,\n",
    "    cloudcover=CLOUD_COVER,\n",
    "    output=OUTPUT_FOLDER,\n",
    "    # geometry=roi.geometry(),\n",
    "    outputcatalogs=os.path.expanduser('~/fels/')\n",
    ")"
   ]
  },
  {
   "cell_type": "markdown",
   "metadata": {},
   "source": [
    "## Process downloaded files"
   ]
  },
  {
   "cell_type": "code",
   "execution_count": 5,
   "metadata": {},
   "outputs": [],
   "source": [
    "import xml.etree.ElementTree as ET"
   ]
  },
  {
   "cell_type": "code",
   "execution_count": 15,
   "metadata": {},
   "outputs": [],
   "source": [
    "path = '/home/daniel/sentinel2/S2A_MSIL1C_20200104T110441_N0208_R094_T31UER_20200104T113507.SAFE/INSPIRE.xml'"
   ]
  },
  {
   "cell_type": "code",
   "execution_count": 7,
   "metadata": {},
   "outputs": [],
   "source": [
    "tree = ET.parse(path)"
   ]
  },
  {
   "cell_type": "code",
   "execution_count": 8,
   "metadata": {},
   "outputs": [],
   "source": [
    "root = tree.getroot()"
   ]
  },
  {
   "cell_type": "code",
   "execution_count": 17,
   "metadata": {},
   "outputs": [
    {
     "data": {
      "text/plain": [
       "{'{http://www.w3.org/2001/XMLSchema-instance}schemaLocation': 'http://www.isotc211.org/2005/gmd http://schemas.opengis.net/iso/19139/20060504/gmd/gmd.xsd'}"
      ]
     },
     "execution_count": 17,
     "metadata": {},
     "output_type": "execute_result"
    }
   ],
   "source": [
    "root.attrib"
   ]
  },
  {
   "cell_type": "code",
   "execution_count": 32,
   "metadata": {},
   "outputs": [
    {
     "name": "stdout",
     "output_type": "stream",
     "text": [
      ":::::\n",
      "{http://www.isotc211.org/2005/gmd}westBoundLongitude 2.999717684492138\n",
      "{http://www.isotc211.org/2005/gmd}eastBoundLongitude 3.422606195503556\n",
      "{http://www.isotc211.org/2005/gmd}southBoundLatitude 49.684155468196785\n",
      "{http://www.isotc211.org/2005/gmd}northBoundLatitude 50.55229211062575\n"
     ]
    }
   ],
   "source": [
    "for x in tree.iter():\n",
    "    if 'EX_GeographicBoundingBox' in x.tag:\n",
    "        print(\":::::\")\n",
    "        for y in x:\n",
    "            print(y.tag, y[0].text)\n",
    "        break"
   ]
  },
  {
   "cell_type": "code",
   "execution_count": null,
   "metadata": {},
   "outputs": [],
   "source": []
  }
 ],
 "metadata": {
  "kernelspec": {
   "display_name": "forest-segmentation",
   "language": "python",
   "name": "python3"
  },
  "language_info": {
   "codemirror_mode": {
    "name": "ipython",
    "version": 3
   },
   "file_extension": ".py",
   "mimetype": "text/x-python",
   "name": "python",
   "nbconvert_exporter": "python",
   "pygments_lexer": "ipython3",
   "version": "3.11.4"
  },
  "orig_nbformat": 4
 },
 "nbformat": 4,
 "nbformat_minor": 2
}
